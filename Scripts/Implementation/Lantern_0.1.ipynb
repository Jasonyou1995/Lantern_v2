{
 "cells": [
  {
   "cell_type": "code",
   "execution_count": 38,
   "metadata": {
    "collapsed": false
   },
   "outputs": [],
   "source": [
    "import json\n",
    "import os\n",
    "from gensim.models import word2vec\n",
    "import gensim\n",
    "with open('main_keys', 'r') as fp:\n",
    "    all_dict = json.load(fp)"
   ]
  },
  {
   "cell_type": "code",
   "execution_count": 56,
   "metadata": {
    "collapsed": true
   },
   "outputs": [],
   "source": [
    "# this:          returns a list with n tuples of (similar_word, cos_similarity) pairs\n",
    "# unknown_word:  word that is not in the dictionary\n",
    "# dictionary:    one of the dictionaries from C1-C8\n",
    "# top_n:         choose top N similar words\n",
    "# model:         model from the load_model() method\n",
    "def cos_max_word(unknown_word, dictionary, top_n, model):\n",
    "    similarity = dict()\n",
    "    \n",
    "    for word in dictionary:\n",
    "        if word in model.vocab:\n",
    "            cos_similarity = model.similarity(word, unknown_word)\n",
    "            similarity.update({word: cos_similarity})\n",
    "\n",
    "    # sorts the cos similarity in decreasing order\n",
    "    ordered_words = sorted(similarity.items(), key=lambda x: x[1], reverse=True)\n",
    "    return ordered_words[:top_n]"
   ]
  },
  {
   "cell_type": "code",
   "execution_count": 57,
   "metadata": {
    "collapsed": false
   },
   "outputs": [],
   "source": [
    "# this:          returns a word2vec model\n",
    "# model_path:    path to the text.model.bin file\n",
    "def load_model(model_path):\n",
    "    #return word2vec.Word2Vec.load_word2vec_format(model_path, binary=True)\n",
    "    return gensim.models.KeyedVectors.load_word2vec_format(model_path, binary=True)\n",
    "my_model = load_model('text.model.bin')"
   ]
  },
  {
   "cell_type": "code",
   "execution_count": 41,
   "metadata": {
    "collapsed": false,
    "scrolled": true
   },
   "outputs": [
    {
     "data": {
      "text/plain": [
       "{'adolescent': 0.31754316787945297,\n",
       " 'assault': 0.25220690543419244,\n",
       " 'contact': 0.4319069651654031,\n",
       " 'factors': 0.27123550060173407,\n",
       " 'injury': 0.2683638563385173,\n",
       " 'intervention': 0.34319435141885574,\n",
       " 'locations': 0.44263104909080564,\n",
       " 'protective': 0.36840983172136454,\n",
       " 'risk': 0.23237064805273297}"
      ]
     },
     "execution_count": 41,
     "metadata": {},
     "output_type": "execute_result"
    }
   ],
   "source": [
    "all_dict['Fight_Assault']"
   ]
  },
  {
   "cell_type": "code",
   "execution_count": 42,
   "metadata": {
    "collapsed": false
   },
   "outputs": [
    {
     "name": "stdout",
     "output_type": "stream",
     "text": [
      "a, b, c, d, e\n"
     ]
    }
   ],
   "source": [
    "user_in = input()"
   ]
  },
  {
   "cell_type": "code",
   "execution_count": 43,
   "metadata": {
    "collapsed": false
   },
   "outputs": [
    {
     "data": {
      "text/plain": [
       "['a', 'b', 'c', 'd', 'e']"
      ]
     },
     "execution_count": 43,
     "metadata": {},
     "output_type": "execute_result"
    }
   ],
   "source": [
    "user_in1 = [x.strip() for x in user_in.strip().split(\",\")]\n",
    "user_in1"
   ]
  },
  {
   "cell_type": "code",
   "execution_count": 44,
   "metadata": {
    "collapsed": false
   },
   "outputs": [
    {
     "data": {
      "text/plain": [
       "dict_keys(['Fight_Assault', 'Vandalism', 'Drug', 'Bully', 'Sexual Harassment'])"
      ]
     },
     "execution_count": 44,
     "metadata": {},
     "output_type": "execute_result"
    }
   ],
   "source": [
    "all_dict.keys()"
   ]
  },
  {
   "cell_type": "code",
   "execution_count": 78,
   "metadata": {
    "collapsed": true
   },
   "outputs": [],
   "source": [
    "def result(my_input):\n",
    "    output = {}\n",
    "    for d_key in all_dict.keys():\n",
    "        d = all_dict.get(d_key)\n",
    "        cum = 0\n",
    "        for word in my_input:\n",
    "            if word in d:\n",
    "                #pass  # return tf-idf score \n",
    "                sc = d[word]\n",
    "            else:\n",
    "                #pass  # cos_similarity\n",
    "                #print(type(cos_max_word(word, d, 1, my_model)[0][1]))\n",
    "                sc = cos_max_word(word, d, 1, my_model)[0][1]\n",
    "            cum += sc\n",
    "        output[d_key] = cum\n",
    "    return sorted(output.items(), key=lambda x: x[1], reverse=True)"
   ]
  },
  {
   "cell_type": "code",
   "execution_count": 79,
   "metadata": {
    "collapsed": false
   },
   "outputs": [
    {
     "name": "stdout",
     "output_type": "stream",
     "text": [
      "a\n",
      "b\n",
      "c\n",
      "d\n",
      "e\n",
      "a\n",
      "b\n",
      "c\n",
      "d\n",
      "e\n",
      "a\n",
      "b\n",
      "c\n",
      "d\n",
      "e\n",
      "a\n",
      "b\n",
      "c\n",
      "d\n",
      "e\n",
      "a\n",
      "b\n",
      "c\n",
      "d\n",
      "e\n"
     ]
    },
    {
     "data": {
      "text/plain": [
       "[('Drug', 1.3716494271756394),\n",
       " ('Bully', 1.1036135960578448),\n",
       " ('Sexual Harassment', 1.099207432819906),\n",
       " ('Vandalism', 0.58630814342439219),\n",
       " ('Fight_Assault', 0.45315645591765946)]"
      ]
     },
     "execution_count": 79,
     "metadata": {},
     "output_type": "execute_result"
    }
   ],
   "source": [
    "result(user_in1)"
   ]
  },
  {
   "cell_type": "code",
   "execution_count": null,
   "metadata": {
    "collapsed": true
   },
   "outputs": [],
   "source": [
    ""
   ]
  },
  {
   "cell_type": "code",
   "execution_count": null,
   "metadata": {
    "collapsed": true
   },
   "outputs": [],
   "source": [
    ""
   ]
  },
  {
   "cell_type": "code",
   "execution_count": null,
   "metadata": {
    "collapsed": true
   },
   "outputs": [],
   "source": [
    ""
   ]
  },
  {
   "cell_type": "code",
   "execution_count": null,
   "metadata": {
    "collapsed": true
   },
   "outputs": [],
   "source": [
    ""
   ]
  }
 ],
 "metadata": {
  "anaconda-cloud": {},
  "kernelspec": {
   "display_name": "Python [conda env:intelpython3]",
   "language": "python",
   "name": "conda-env-intelpython3-py"
  },
  "language_info": {
   "codemirror_mode": {
    "name": "ipython",
    "version": 3.0
   },
   "file_extension": ".py",
   "mimetype": "text/x-python",
   "name": "python",
   "nbconvert_exporter": "python",
   "pygments_lexer": "ipython3",
   "version": "3.5.2"
  }
 },
 "nbformat": 4,
 "nbformat_minor": 0
}